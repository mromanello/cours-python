{
 "cells": [
  {
   "cell_type": "markdown",
   "metadata": {},
   "source": [
    "# Chapitre 1 - Correction de l'exercice"
   ]
  },
  {
   "cell_type": "markdown",
   "metadata": {},
   "source": [
    "Ce que nous voulons que vous fassiez, c'est écrire du code qui compte le nombre total d'occurrences pour chaque character dans un text greque."
   ]
  },
  {
   "cell_type": "code",
   "execution_count": 4,
   "metadata": {},
   "outputs": [],
   "source": [
    "text = \"\"\"\n",
    "μῆνιν ἄειδε θεὰ Πηληϊάδεω Ἀχιλῆος\n",
    "οὐλομένην, ἣ μυρίʼ Ἀχαιοῖς ἄλγεʼ ἔθηκε,\n",
    "πολλὰς δʼ ἰφθίμους ψυχὰς Ἄϊδι προΐαψεν\n",
    "ἡρώων, αὐτοὺς δὲ ἑλώρια τεῦχε κύνεσσιν\n",
    "οἰωνοῖσί τε πᾶσι, Διὸς δʼ ἐτελείετο βουλή,\n",
    "ἐξ οὗ δὴ τὰ πρῶτα διαστήτην ἐρίσαντε\n",
    "Ἀτρεΐδης τε ἄναξ ἀνδρῶν καὶ δῖος Ἀχιλλεύς.\n",
    "τίς τʼ ἄρ σφωε θεῶν ἔριδι ξυνέηκε μάχεσθαι;\n",
    "Λητοῦς καὶ Διὸς υἱός· ὃ γὰρ βασιλῆϊ χολωθεὶς\n",
    "νοῦσον ἀνὰ στρατὸν ὄρσε κακήν, ὀλέκοντο δὲ λαοί,\n",
    "οὕνεκα τὸν Χρύσην ἠτίμασεν ἀρητῆρα\n",
    "Ἀτρεΐδης· ὃ γὰρ ἦλθε θοὰς ἐπὶ νῆας Ἀχαιῶν\n",
    "λυσόμενός τε θύγατρα φέρων τʼ ἀπερείσιʼ ἄποινα,\n",
    "στέμματʼ ἔχων ἐν χερσὶν ἑκηβόλου Ἀπόλλωνος\n",
    "χρυσέῳ ἀνὰ σκήπτρῳ, καὶ λίσσετο πάντας Ἀχαιούς,\n",
    "Ἀτρεΐδα δὲ μάλιστα δύω, κοσμήτορε λαῶν·\n",
    "Ἀτρεΐδαι τε καὶ ἄλλοι ἐϋκνήμιδες Ἀχαιοί,\n",
    "ὑμῖν μὲν θεοὶ δοῖεν Ὀλύμπια δώματʼ ἔχοντες\n",
    "ἐκπέρσαι Πριάμοιο πόλιν, εὖ δʼ οἴκαδʼ ἱκέσθαι·\n",
    "παῖδα δʼ ἐμοὶ λύσαιτε φίλην, τὰ δʼ ἄποινα δέχεσθαι,\n",
    "\"\"\""
   ]
  },
  {
   "cell_type": "markdown",
   "metadata": {},
   "source": [
    "## Variant 1"
   ]
  },
  {
   "cell_type": "code",
   "execution_count": 63,
   "metadata": {},
   "outputs": [],
   "source": [
    "# on a besoin d'un dictionnaire pour garder une trace \n",
    "# de combien de fois se trouve dans le text\n",
    "characters = {}\n",
    "\n",
    "# on fait une boucle sur chaque lettre dans le text\n",
    "for char in text:\n",
    "    \n",
    "    # on définit une liste noire de characters qui sont pas\n",
    "    # des lettres de l'aplhabet\n",
    "    to_skip = [\",\", \".\", \";\", \"·\", \"ʼ\", \" \", \"\\n\"]\n",
    "    \n",
    "    # si c'est dans la liste noire on passe au suivant\n",
    "    if char in to_skip:\n",
    "        continue\n",
    "    \n",
    "    # ça c'est la partie la plus importante\n",
    "    # si le chatacter c'est dejà dans le dictionnaire (ça veux dire on\n",
    "    # l'a dejà encontré) on ajoute 1 à la variable qui compte les occurrences\n",
    "    if char in characters:\n",
    "        characters[char] += 1\n",
    "    # sinon (on l'avait pas encore encontré), on donne la valeur 1 \n",
    "    else:\n",
    "        characters[char] = 1"
   ]
  },
  {
   "cell_type": "code",
   "execution_count": 64,
   "metadata": {},
   "outputs": [
    {
     "data": {
      "text/plain": [
       "73"
      ]
     },
     "execution_count": 64,
     "metadata": {},
     "output_type": "execute_result"
    }
   ],
   "source": [
    "len(characters)"
   ]
  },
  {
   "cell_type": "code",
   "execution_count": 65,
   "metadata": {},
   "outputs": [
    {
     "data": {
      "text/plain": [
       "{'μ': 18,\n",
       " 'ῆ': 5,\n",
       " 'ν': 46,\n",
       " 'ι': 34,\n",
       " 'ἄ': 7,\n",
       " 'ε': 45,\n",
       " 'δ': 27,\n",
       " 'θ': 12,\n",
       " 'ὰ': 10,\n",
       " 'Π': 2,\n",
       " 'η': 13,\n",
       " 'λ': 29,\n",
       " 'ϊ': 3,\n",
       " 'ά': 5,\n",
       " 'ω': 9,\n",
       " 'Ἀ': 11,\n",
       " 'χ': 15,\n",
       " 'ο': 40,\n",
       " 'ς': 24,\n",
       " 'ὐ': 2,\n",
       " 'έ': 9,\n",
       " 'ἣ': 1,\n",
       " 'υ': 9,\n",
       " 'ρ': 29,\n",
       " 'ί': 12,\n",
       " 'α': 43,\n",
       " 'ῖ': 6,\n",
       " 'γ': 4,\n",
       " 'ἔ': 4,\n",
       " 'κ': 18,\n",
       " 'π': 15,\n",
       " 'ἰ': 2,\n",
       " 'φ': 4,\n",
       " 'ψ': 2,\n",
       " 'Ἄ': 1,\n",
       " 'ΐ': 5,\n",
       " 'ἡ': 1,\n",
       " 'ώ': 3,\n",
       " 'τ': 39,\n",
       " 'ὺ': 1,\n",
       " 'ὲ': 4,\n",
       " 'ἑ': 2,\n",
       " 'ῦ': 3,\n",
       " 'ύ': 8,\n",
       " 'σ': 28,\n",
       " 'ᾶ': 1,\n",
       " 'Δ': 2,\n",
       " 'ὸ': 4,\n",
       " 'ἐ': 8,\n",
       " 'β': 3,\n",
       " 'ή': 6,\n",
       " 'ξ': 3,\n",
       " 'ὗ': 1,\n",
       " 'ὴ': 1,\n",
       " 'ῶ': 5,\n",
       " 'ἀ': 5,\n",
       " 'ὶ': 9,\n",
       " 'Λ': 1,\n",
       " 'ἱ': 2,\n",
       " 'ό': 6,\n",
       " 'ὃ': 2,\n",
       " 'ὄ': 1,\n",
       " 'ὀ': 1,\n",
       " 'ὕ': 1,\n",
       " 'Χ': 1,\n",
       " 'ἠ': 1,\n",
       " 'ἦ': 1,\n",
       " 'ῳ': 2,\n",
       " 'ϋ': 1,\n",
       " 'ὑ': 1,\n",
       " 'Ὀ': 1,\n",
       " 'ὖ': 1,\n",
       " 'ἴ': 1}"
      ]
     },
     "execution_count": 65,
     "metadata": {},
     "output_type": "execute_result"
    }
   ],
   "source": [
    "characters"
   ]
  },
  {
   "cell_type": "markdown",
   "metadata": {},
   "source": [
    "Après le premier essai on a une liste de **73** lettres...\n",
    "\n",
    "Mais combien de lettres il y a dans l'alphabet greque ?\n",
    "\n",
    "Pour ameliorer notre logiciel il faudra:\n",
    "\n",
    "- enlever les accents\n",
    "- enlever les \"breathings\"\n",
    "- transformer les majuscules dans minuscules"
   ]
  },
  {
   "cell_type": "markdown",
   "metadata": {},
   "source": [
    "## Variant 2"
   ]
  },
  {
   "cell_type": "code",
   "execution_count": 83,
   "metadata": {},
   "outputs": [],
   "source": [
    "# ça c'est la syntaxe pour importer (= utilizer) une librairie externe\n",
    "from greek_accentuation.characters import strip_accents, strip_breathing\n",
    "from greek_accentuation.characters import remove_diacritic, DIAERESIS, IOTA_SUBSCRIPT"
   ]
  },
  {
   "cell_type": "code",
   "execution_count": 84,
   "metadata": {},
   "outputs": [],
   "source": [
    "strip_diaeresis = remove_diacritic(DIAERESIS)\n",
    "strip_iotasubscript = remove_diacritic(IOTA_SUBSCRIPT)"
   ]
  },
  {
   "cell_type": "code",
   "execution_count": 85,
   "metadata": {},
   "outputs": [],
   "source": [
    "# on a besoin d'un dictionnaire pour garder une trace \n",
    "# de combien de fois se trouve dans le text\n",
    "characters = {}\n",
    "\n",
    "# on fait une boucle sur chaque lettre dans le text\n",
    "for char in text:\n",
    "    \n",
    "    # on définit une liste noire de characters qui sont pas\n",
    "    # des lettres de l'aplhabet\n",
    "    to_skip = [\",\", \".\", \";\", \"·\", \"ʼ\", \" \", \"\\n\"]\n",
    "    \n",
    "    # si c'est dans la liste noire on passe au suivant\n",
    "    if char in to_skip:\n",
    "        continue\n",
    "        \n",
    "    # maintenant on fait des normalizations, une après l'autre\n",
    "    character_before = char\n",
    "    char = strip_diaeresis(char)\n",
    "    char = strip_breathing(char)\n",
    "    char = strip_accents(char)\n",
    "    char = strip_iotasubscript(char)\n",
    "    char = char.lower()\n",
    "    # print(\"{} => {}\".format(character_before, char))\n",
    "    \n",
    "    # ça c'est la partie la plus importante\n",
    "    # si le chatacter c'est dejà dans le dictionnaire (ça veux dire on\n",
    "    # l'a dejà encontré) on ajoute 1 à la variable qui compte les occurrences\n",
    "    if char in characters:\n",
    "        characters[char] += 1\n",
    "    # sinon (on l'avait pas encore encontré), on donne la valeur 1 \n",
    "    else:\n",
    "        characters[char] = 1"
   ]
  },
  {
   "cell_type": "code",
   "execution_count": 88,
   "metadata": {},
   "outputs": [
    {
     "data": {
      "text/plain": [
       "{'μ': 18,\n",
       " 'η': 29,\n",
       " 'ν': 46,\n",
       " 'ι': 74,\n",
       " 'α': 83,\n",
       " 'ε': 72,\n",
       " 'δ': 29,\n",
       " 'θ': 12,\n",
       " 'π': 17,\n",
       " 'λ': 30,\n",
       " 'ω': 19,\n",
       " 'χ': 16,\n",
       " 'ο': 55,\n",
       " 'ς': 24,\n",
       " 'υ': 28,\n",
       " 'ρ': 29,\n",
       " 'γ': 4,\n",
       " 'κ': 18,\n",
       " 'φ': 4,\n",
       " 'ψ': 2,\n",
       " 'τ': 39,\n",
       " 'σ': 28,\n",
       " 'β': 3,\n",
       " 'ξ': 3}"
      ]
     },
     "execution_count": 88,
     "metadata": {},
     "output_type": "execute_result"
    }
   ],
   "source": [
    "# voici ce qu'il y a maintenant dans notre dictionnaire\n",
    "characters"
   ]
  },
  {
   "cell_type": "code",
   "execution_count": 89,
   "metadata": {},
   "outputs": [
    {
     "data": {
      "text/plain": [
       "24"
      ]
     },
     "execution_count": 89,
     "metadata": {},
     "output_type": "execute_result"
    }
   ],
   "source": [
    "len(characters)"
   ]
  },
  {
   "cell_type": "markdown",
   "metadata": {},
   "source": [
    "## Et maintenant, notre première *fonction*"
   ]
  },
  {
   "cell_type": "code",
   "execution_count": 91,
   "metadata": {},
   "outputs": [],
   "source": [
    "# ça c'est la syntaxe pour importer (= utilizer) une librairie externe\n",
    "from greek_accentuation.characters import strip_accents, strip_breathing\n",
    "from greek_accentuation.characters import remove_diacritic, DIAERESIS, IOTA_SUBSCRIPT"
   ]
  },
  {
   "cell_type": "code",
   "execution_count": 90,
   "metadata": {},
   "outputs": [],
   "source": [
    "strip_diaeresis = remove_diacritic(DIAERESIS)\n",
    "strip_iotasubscript = remove_diacritic(IOTA_SUBSCRIPT)"
   ]
  },
  {
   "cell_type": "code",
   "execution_count": 93,
   "metadata": {},
   "outputs": [],
   "source": [
    "def count_characters(text):\n",
    "    \n",
    "    # on a besoin d'un dictionnaire pour garder une trace \n",
    "    # de combien de fois se trouve dans le text\n",
    "    characters = {}\n",
    "\n",
    "    # on fait une boucle sur chaque lettre dans le text\n",
    "    for char in text:\n",
    "\n",
    "        # on définit une liste noire de characters qui sont pas\n",
    "        # des lettres de l'aplhabet\n",
    "        to_skip = [\",\", \".\", \";\", \"·\", \"ʼ\", \" \", \"\\n\"]\n",
    "\n",
    "        # si c'est dans la liste noire on passe au suivant\n",
    "        if char in to_skip:\n",
    "            continue\n",
    "\n",
    "        # maintenant on fait des normalizations, une après l'autre\n",
    "        character_before = char\n",
    "        char = strip_diaeresis(char)\n",
    "        char = strip_breathing(char)\n",
    "        char = strip_accents(char)\n",
    "        char = strip_iotasubscript(char)\n",
    "        char = char.lower()\n",
    "        # print(\"{} => {}\".format(character_before, char))\n",
    "\n",
    "        # ça c'est la partie la plus importante\n",
    "        # si le chatacter c'est dejà dans le dictionnaire (ça veux dire on\n",
    "        # l'a dejà encontré) on ajoute 1 à la variable qui compte les occurrences\n",
    "        if char in characters:\n",
    "            characters[char] += 1\n",
    "        # sinon (on l'avait pas encore encontré), on donne la valeur 1 \n",
    "        else:\n",
    "            characters[char] = 1\n",
    "            \n",
    "    return sorted(characters.items(), key=itemgetter(1), reverse=True)\n",
    "    #return characters"
   ]
  },
  {
   "cell_type": "code",
   "execution_count": 94,
   "metadata": {},
   "outputs": [
    {
     "data": {
      "text/plain": [
       "function"
      ]
     },
     "execution_count": 94,
     "metadata": {},
     "output_type": "execute_result"
    }
   ],
   "source": [
    "type(count_characters)"
   ]
  },
  {
   "cell_type": "code",
   "execution_count": 98,
   "metadata": {},
   "outputs": [],
   "source": [
    "# on invoque la fonction avec la variable `text`\n",
    "# comment paramètre d'input et on va stoquer le resultat\n",
    "# de cette fonction dans la variable `characters_found`\n",
    "characters_found = count_characters(text)"
   ]
  },
  {
   "cell_type": "code",
   "execution_count": 96,
   "metadata": {},
   "outputs": [
    {
     "data": {
      "text/plain": [
       "[('α', 83),\n",
       " ('ι', 74),\n",
       " ('ε', 72),\n",
       " ('ο', 55),\n",
       " ('ν', 46),\n",
       " ('τ', 39),\n",
       " ('λ', 30),\n",
       " ('η', 29),\n",
       " ('δ', 29),\n",
       " ('ρ', 29),\n",
       " ('υ', 28),\n",
       " ('σ', 28),\n",
       " ('ς', 24),\n",
       " ('ω', 19),\n",
       " ('μ', 18),\n",
       " ('κ', 18),\n",
       " ('π', 17),\n",
       " ('χ', 16),\n",
       " ('θ', 12),\n",
       " ('γ', 4),\n",
       " ('φ', 4),\n",
       " ('β', 3),\n",
       " ('ξ', 3),\n",
       " ('ψ', 2)]"
      ]
     },
     "execution_count": 96,
     "metadata": {},
     "output_type": "execute_result"
    }
   ],
   "source": [
    "characters_found"
   ]
  },
  {
   "cell_type": "code",
   "execution_count": 97,
   "metadata": {},
   "outputs": [
    {
     "data": {
      "text/plain": [
       "24"
      ]
     },
     "execution_count": 97,
     "metadata": {},
     "output_type": "execute_result"
    }
   ],
   "source": [
    "len(characters)"
   ]
  }
 ],
 "metadata": {
  "kernelspec": {
   "display_name": "Python 3",
   "language": "python",
   "name": "python3"
  },
  "language_info": {
   "codemirror_mode": {
    "name": "ipython",
    "version": 3
   },
   "file_extension": ".py",
   "mimetype": "text/x-python",
   "name": "python",
   "nbconvert_exporter": "python",
   "pygments_lexer": "ipython3",
   "version": "3.6.0"
  },
  "toc": {
   "nav_menu": {},
   "number_sections": true,
   "sideBar": true,
   "skip_h1_title": false,
   "title_cell": "Table of Contents",
   "title_sidebar": "Contents",
   "toc_cell": false,
   "toc_position": {},
   "toc_section_display": true,
   "toc_window_display": false
  }
 },
 "nbformat": 4,
 "nbformat_minor": 2
}
