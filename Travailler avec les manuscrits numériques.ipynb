{
 "cells": [
  {
   "cell_type": "markdown",
   "metadata": {},
   "source": [
    "# Travailler avec des manuscrits numériques"
   ]
  },
  {
   "cell_type": "markdown",
   "metadata": {},
   "source": [
    "## Le protocol IIIF"
   ]
  },
  {
   "cell_type": "markdown",
   "metadata": {},
   "source": [
    "IIIF c'est l'abbreviation de [International Image Interoperability Framework™](https://iiif.io/)\n",
    "\n",
    "![IIIF logo](https://iiif.io/img/logo-iiif-34x30.png)"
   ]
  },
  {
   "cell_type": "markdown",
   "metadata": {},
   "source": [
    "Dans le protocol `IIIF` on utilise des URLs (addresses Web) pour reperer des images:\n",
    "\n",
    "https://www.e-codices.unifr.ch/loris/bge/bge-gr0044/bge-gr0044_001.jp2/full/full/0/default.jpg\n",
    "\n",
    "`https://www.e-codices.unifr.ch/loris/bge/bge-gr0044/bge-gr0044_001.jp2/full/full/0/default.jpg`"
   ]
  },
  {
   "cell_type": "markdown",
   "metadata": {},
   "source": [
    "Mais chaque addresse a une structure bien définie:"
   ]
  },
  {
   "cell_type": "code",
   "execution_count": 1,
   "metadata": {},
   "outputs": [],
   "source": [
    "# https://www.e-codices.unifr.ch/loris/bge/bge-gr0044/bge-gr0044_001.jp2/full/full/0/default.jpg\n",
    "\n",
    "scheme=\"https\"\n",
    "server=\"www.e-codices.unifr.ch\"\n",
    "prefix=\"/loris\"\n",
    "identifier=\"bge/bge-gr0044/bge-gr0044_001.jp2\"\n",
    "region=\"full\"\n",
    "size=\"full\"\n",
    "rotation=0\n",
    "quality=\"default\"\n",
    "extension=\"jpg\""
   ]
  },
  {
   "cell_type": "code",
   "execution_count": 2,
   "metadata": {},
   "outputs": [],
   "source": [
    "# on definit ici une fonction pour afficher des images à travers\n",
    "# le protocol IIIF\n",
    "\n",
    "import requests  # Permet de faire des requêtes webs\n",
    "from IPython.display import Image, display\n",
    "from IPython.core.display import HTML \n",
    "\n",
    "URLTemplate = \"{scheme}://{server}{prefix}/{identifier}\" \\\n",
    "                  \"/{region}/{size}/{rotation}/{quality}.{extension}\"\n",
    "\n",
    "def show(scheme, server, prefix, identifier, region, size, rotation, quality, extension):\n",
    "    request_URI = URLTemplate.format(scheme=scheme,\n",
    "        server=server,\n",
    "        prefix=prefix,\n",
    "        identifier=identifier,\n",
    "        region=region,\n",
    "        size=size,\n",
    "        rotation=rotation,\n",
    "        quality=quality,\n",
    "        extension=extension\n",
    "    )\n",
    "    print(\"Target URI \" + request_URI)\n",
    "    display(Image(url=request_URI))"
   ]
  },
  {
   "cell_type": "code",
   "execution_count": 3,
   "metadata": {},
   "outputs": [
    {
     "name": "stdout",
     "output_type": "stream",
     "text": [
      "Target URI https://www.e-codices.unifr.ch/loris/bge/bge-gr0044/bge-gr0044_001.jp2/full/full/0/default.jpg\n"
     ]
    },
    {
     "data": {
      "text/html": [
       "<img src=\"https://www.e-codices.unifr.ch/loris/bge/bge-gr0044/bge-gr0044_001.jp2/full/full/0/default.jpg\"/>"
      ],
      "text/plain": [
       "<IPython.core.display.Image object>"
      ]
     },
     "metadata": {},
     "output_type": "display_data"
    }
   ],
   "source": [
    "show(scheme, server, prefix, identifier, region, size, rotation, quality, extension)"
   ]
  },
  {
   "cell_type": "code",
   "execution_count": 4,
   "metadata": {},
   "outputs": [
    {
     "name": "stdout",
     "output_type": "stream",
     "text": [
      "Target URI https://www.e-codices.unifr.ch/loris/bge/bge-gr0044/bge-gr0044_001.jp2/1190,556,379,82/full/0/default.jpg\n"
     ]
    },
    {
     "data": {
      "text/html": [
       "<img src=\"https://www.e-codices.unifr.ch/loris/bge/bge-gr0044/bge-gr0044_001.jp2/1190,556,379,82/full/0/default.jpg\"/>"
      ],
      "text/plain": [
       "<IPython.core.display.Image object>"
      ]
     },
     "metadata": {},
     "output_type": "display_data"
    }
   ],
   "source": [
    "show(scheme, server, prefix, identifier, \"1190,556,379,82\", size, rotation, quality, extension)"
   ]
  },
  {
   "cell_type": "code",
   "execution_count": 5,
   "metadata": {},
   "outputs": [
    {
     "name": "stdout",
     "output_type": "stream",
     "text": [
      "Target URI https://www.e-codices.unifr.ch/loris/bge/bge-gr0044/bge-gr0044_001.jp2/1190,556,379,82/full/90/default.jpg\n"
     ]
    },
    {
     "data": {
      "text/html": [
       "<img src=\"https://www.e-codices.unifr.ch/loris/bge/bge-gr0044/bge-gr0044_001.jp2/1190,556,379,82/full/90/default.jpg\"/>"
      ],
      "text/plain": [
       "<IPython.core.display.Image object>"
      ]
     },
     "metadata": {},
     "output_type": "display_data"
    }
   ],
   "source": [
    "show(scheme, server, prefix, identifier, \"1190,556,379,82\", size, 90, quality, extension)"
   ]
  },
  {
   "cell_type": "markdown",
   "metadata": {},
   "source": [
    "## Tirer des annotations des Recogito"
   ]
  },
  {
   "cell_type": "code",
   "execution_count": 40,
   "metadata": {},
   "outputs": [],
   "source": [
    "import requests\n",
    "from requests.auth import HTTPBasicAuth"
   ]
  },
  {
   "cell_type": "code",
   "execution_count": 41,
   "metadata": {},
   "outputs": [],
   "source": [
    "url = \"https://recogito.pelagios.org/document/mtxabgqcgnbxj9/downloads/annotations/jsonld\""
   ]
  },
  {
   "cell_type": "code",
   "execution_count": 42,
   "metadata": {},
   "outputs": [],
   "source": [
    "r = requests.get(url)\n",
    "annotations = r.json()"
   ]
  },
  {
   "cell_type": "code",
   "execution_count": 43,
   "metadata": {},
   "outputs": [
    {
     "data": {
      "text/plain": [
       "18"
      ]
     },
     "execution_count": 43,
     "metadata": {},
     "output_type": "execute_result"
    }
   ],
   "source": [
    "len(annotations)"
   ]
  },
  {
   "cell_type": "code",
   "execution_count": 44,
   "metadata": {},
   "outputs": [],
   "source": [
    "def decompose_url(url):\n",
    "    scheme, rest = url.split(\"://\")\n",
    "    server = rest.split('/')[0]\n",
    "    prefix = \"/\" + rest.split('/')[1]\n",
    "    identifier = \"/\".join(rest.split('/')[2:])\n",
    "    return scheme, server, prefix, identifier"
   ]
  },
  {
   "cell_type": "code",
   "execution_count": 49,
   "metadata": {
    "scrolled": false
   },
   "outputs": [
    {
     "name": "stdout",
     "output_type": "stream",
     "text": [
      "Tags: line_segmentation\n",
      "Target URI https://www.e-codices.unifr.ch/loris/bge/bge-gr0044/bge-gr0044_001.jp2/644,1349,1538,117/full/0/default.jpg\n"
     ]
    },
    {
     "data": {
      "text/html": [
       "<img src=\"https://www.e-codices.unifr.ch/loris/bge/bge-gr0044/bge-gr0044_001.jp2/644,1349,1538,117/full/0/default.jpg\"/>"
      ],
      "text/plain": [
       "<IPython.core.display.Image object>"
      ]
     },
     "metadata": {},
     "output_type": "display_data"
    },
    {
     "name": "stdout",
     "output_type": "stream",
     "text": [
      "--------------\n",
      "Tags: line_segmentation\n",
      "Target URI https://www.e-codices.unifr.ch/loris/bge/bge-gr0044/bge-gr0044_001.jp2/686,1959,1226,91/full/0/default.jpg\n"
     ]
    },
    {
     "data": {
      "text/html": [
       "<img src=\"https://www.e-codices.unifr.ch/loris/bge/bge-gr0044/bge-gr0044_001.jp2/686,1959,1226,91/full/0/default.jpg\"/>"
      ],
      "text/plain": [
       "<IPython.core.display.Image object>"
      ]
     },
     "metadata": {},
     "output_type": "display_data"
    },
    {
     "name": "stdout",
     "output_type": "stream",
     "text": [
      "--------------\n",
      "Tags: line_segmentation\n",
      "Target URI https://www.e-codices.unifr.ch/loris/bge/bge-gr0044/bge-gr0044_001.jp2/694,2065,1475,116/full/0/default.jpg\n"
     ]
    },
    {
     "data": {
      "text/html": [
       "<img src=\"https://www.e-codices.unifr.ch/loris/bge/bge-gr0044/bge-gr0044_001.jp2/694,2065,1475,116/full/0/default.jpg\"/>"
      ],
      "text/plain": [
       "<IPython.core.display.Image object>"
      ]
     },
     "metadata": {},
     "output_type": "display_data"
    },
    {
     "name": "stdout",
     "output_type": "stream",
     "text": [
      "--------------\n",
      "Tags: line_segmentation\n",
      "Target URI https://www.e-codices.unifr.ch/loris/bge/bge-gr0044/bge-gr0044_001.jp2/694,2514,1625,102/full/0/default.jpg\n"
     ]
    },
    {
     "data": {
      "text/html": [
       "<img src=\"https://www.e-codices.unifr.ch/loris/bge/bge-gr0044/bge-gr0044_001.jp2/694,2514,1625,102/full/0/default.jpg\"/>"
      ],
      "text/plain": [
       "<IPython.core.display.Image object>"
      ]
     },
     "metadata": {},
     "output_type": "display_data"
    },
    {
     "name": "stdout",
     "output_type": "stream",
     "text": [
      "--------------\n",
      "Tags: line_segmentation, paraphrase\n",
      "Target URI https://www.e-codices.unifr.ch/loris/bge/bge-gr0044/bge-gr0044_001.jp2/641,1043,1576,212/full/0/default.jpg\n"
     ]
    },
    {
     "data": {
      "text/html": [
       "<img src=\"https://www.e-codices.unifr.ch/loris/bge/bge-gr0044/bge-gr0044_001.jp2/641,1043,1576,212/full/0/default.jpg\"/>"
      ],
      "text/plain": [
       "<IPython.core.display.Image object>"
      ]
     },
     "metadata": {},
     "output_type": "display_data"
    },
    {
     "name": "stdout",
     "output_type": "stream",
     "text": [
      "--------------\n",
      "Tags: line_segmentation\n",
      "Target URI https://www.e-codices.unifr.ch/loris/bge/bge-gr0044/bge-gr0044_001.jp2/683,2267,1409,129/full/0/default.jpg\n"
     ]
    },
    {
     "data": {
      "text/html": [
       "<img src=\"https://www.e-codices.unifr.ch/loris/bge/bge-gr0044/bge-gr0044_001.jp2/683,2267,1409,129/full/0/default.jpg\"/>"
      ],
      "text/plain": [
       "<IPython.core.display.Image object>"
      ]
     },
     "metadata": {},
     "output_type": "display_data"
    },
    {
     "name": "stdout",
     "output_type": "stream",
     "text": [
      "--------------\n",
      "Tags: line_segmentation, verse\n",
      "Target URI https://www.e-codices.unifr.ch/loris/bge/bge-gr0044/bge-gr0044_001.jp2/664,1205,1308,159/full/0/default.jpg\n"
     ]
    },
    {
     "data": {
      "text/html": [
       "<img src=\"https://www.e-codices.unifr.ch/loris/bge/bge-gr0044/bge-gr0044_001.jp2/664,1205,1308,159/full/0/default.jpg\"/>"
      ],
      "text/plain": [
       "<IPython.core.display.Image object>"
      ]
     },
     "metadata": {},
     "output_type": "display_data"
    },
    {
     "name": "stdout",
     "output_type": "stream",
     "text": [
      "--------------\n",
      "Tags: line_segmentation\n",
      "Target URI https://www.e-codices.unifr.ch/loris/bge/bge-gr0044/bge-gr0044_001.jp2/647,1818,1704,103/full/0/default.jpg\n"
     ]
    },
    {
     "data": {
      "text/html": [
       "<img src=\"https://www.e-codices.unifr.ch/loris/bge/bge-gr0044/bge-gr0044_001.jp2/647,1818,1704,103/full/0/default.jpg\"/>"
      ],
      "text/plain": [
       "<IPython.core.display.Image object>"
      ]
     },
     "metadata": {},
     "output_type": "display_data"
    },
    {
     "name": "stdout",
     "output_type": "stream",
     "text": [
      "--------------\n",
      "Tags: line_segmentation\n",
      "Target URI https://www.e-codices.unifr.ch/loris/bge/bge-gr0044/bge-gr0044_001.jp2/661,1488,1257,105/full/0/default.jpg\n"
     ]
    },
    {
     "data": {
      "text/html": [
       "<img src=\"https://www.e-codices.unifr.ch/loris/bge/bge-gr0044/bge-gr0044_001.jp2/661,1488,1257,105/full/0/default.jpg\"/>"
      ],
      "text/plain": [
       "<IPython.core.display.Image object>"
      ]
     },
     "metadata": {},
     "output_type": "display_data"
    },
    {
     "name": "stdout",
     "output_type": "stream",
     "text": [
      "--------------\n",
      "Tags: line_segmentation\n",
      "Target URI https://www.e-codices.unifr.ch/loris/bge/bge-gr0044/bge-gr0044_001.jp2/661,1610,1317,88/full/0/default.jpg\n"
     ]
    },
    {
     "data": {
      "text/html": [
       "<img src=\"https://www.e-codices.unifr.ch/loris/bge/bge-gr0044/bge-gr0044_001.jp2/661,1610,1317,88/full/0/default.jpg\"/>"
      ],
      "text/plain": [
       "<IPython.core.display.Image object>"
      ]
     },
     "metadata": {},
     "output_type": "display_data"
    },
    {
     "name": "stdout",
     "output_type": "stream",
     "text": [
      "--------------\n",
      "Tags: line_segmentation\n",
      "Target URI https://www.e-codices.unifr.ch/loris/bge/bge-gr0044/bge-gr0044_001.jp2/691,1713,1087,101/full/0/default.jpg\n"
     ]
    },
    {
     "data": {
      "text/html": [
       "<img src=\"https://www.e-codices.unifr.ch/loris/bge/bge-gr0044/bge-gr0044_001.jp2/691,1713,1087,101/full/0/default.jpg\"/>"
      ],
      "text/plain": [
       "<IPython.core.display.Image object>"
      ]
     },
     "metadata": {},
     "output_type": "display_data"
    },
    {
     "name": "stdout",
     "output_type": "stream",
     "text": [
      "--------------\n",
      "Tags: line_segmentation\n",
      "Target URI https://www.e-codices.unifr.ch/loris/bge/bge-gr0044/bge-gr0044_001.jp2/706,2175,1217,99/full/0/default.jpg\n"
     ]
    },
    {
     "data": {
      "text/html": [
       "<img src=\"https://www.e-codices.unifr.ch/loris/bge/bge-gr0044/bge-gr0044_001.jp2/706,2175,1217,99/full/0/default.jpg\"/>"
      ],
      "text/plain": [
       "<IPython.core.display.Image object>"
      ]
     },
     "metadata": {},
     "output_type": "display_data"
    },
    {
     "name": "stdout",
     "output_type": "stream",
     "text": [
      "--------------\n",
      "Tags: line_segmentation, verse\n",
      "Target URI https://www.e-codices.unifr.ch/loris/bge/bge-gr0044/bge-gr0044_001.jp2/519,948,1525,167/full/0/default.jpg\n"
     ]
    },
    {
     "data": {
      "text/html": [
       "<img src=\"https://www.e-codices.unifr.ch/loris/bge/bge-gr0044/bge-gr0044_001.jp2/519,948,1525,167/full/0/default.jpg\"/>"
      ],
      "text/plain": [
       "<IPython.core.display.Image object>"
      ]
     },
     "metadata": {},
     "output_type": "display_data"
    },
    {
     "name": "stdout",
     "output_type": "stream",
     "text": [
      "--------------\n",
      "Tags: line_segmentation\n",
      "Target URI https://www.e-codices.unifr.ch/loris/bge/bge-gr0044/bge-gr0044_001.jp2/709,2404,1237,114/full/0/default.jpg\n"
     ]
    },
    {
     "data": {
      "text/html": [
       "<img src=\"https://www.e-codices.unifr.ch/loris/bge/bge-gr0044/bge-gr0044_001.jp2/709,2404,1237,114/full/0/default.jpg\"/>"
      ],
      "text/plain": [
       "<IPython.core.display.Image object>"
      ]
     },
     "metadata": {},
     "output_type": "display_data"
    },
    {
     "name": "stdout",
     "output_type": "stream",
     "text": [
      "--------------\n"
     ]
    }
   ],
   "source": [
    "for annotation in r.json():\n",
    "    \n",
    "    body = annotation['body']\n",
    "    \n",
    "    target = annotation['target']\n",
    "    \n",
    "    tags = [\n",
    "        b['value']\n",
    "        for b in body\n",
    "        if b['purpose'] == 'tagging'\n",
    "    ]\n",
    "    \n",
    "    if \"line_segmentation\" not in tags:\n",
    "        continue\n",
    "        \n",
    "    #if \"verse\" not in tags:\n",
    "    #    continue\n",
    "\n",
    "    print(\"Tags: \" + \", \".join(tags))\n",
    "        \n",
    "        \n",
    "    source = target[\"source\"]\n",
    "    annotated_region = target[\"selector\"][0]['value'].replace(\"xywh=pixel:\", \"\")\n",
    "    scheme, server, prefix, identifier = decompose_url(source)\n",
    "    show(scheme, server, prefix, identifier, annotated_region, size, rotation, quality, extension)\n",
    "    print(\"--------------\")"
   ]
  }
 ],
 "metadata": {
  "kernelspec": {
   "display_name": "Python 3",
   "language": "python",
   "name": "python3"
  },
  "language_info": {
   "codemirror_mode": {
    "name": "ipython",
    "version": 3
   },
   "file_extension": ".py",
   "mimetype": "text/x-python",
   "name": "python",
   "nbconvert_exporter": "python",
   "pygments_lexer": "ipython3",
   "version": "3.6.0"
  },
  "toc": {
   "nav_menu": {},
   "number_sections": true,
   "sideBar": true,
   "skip_h1_title": false,
   "title_cell": "Table of Contents",
   "title_sidebar": "Contents",
   "toc_cell": false,
   "toc_position": {},
   "toc_section_display": true,
   "toc_window_display": false
  }
 },
 "nbformat": 4,
 "nbformat_minor": 2
}
